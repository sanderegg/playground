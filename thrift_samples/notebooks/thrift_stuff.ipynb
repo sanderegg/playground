{
 "cells": [
  {
   "cell_type": "code",
   "execution_count": 4,
   "metadata": {},
   "outputs": [],
   "source": [
    "import os\n",
    "import sys\n",
    "import time\n",
    "\n",
    "sys.path.append(r'/home/jovyan/thrift/XRpc/services/gen-py') # this is the interface to application\n",
    "sys.path.append(r'/home/jovyan/thrift/XCoreModelingServer/gen-py') # this is the interface to modeler\n",
    "#sys.path.append(r'C:\\Users\\anderegg\\Documents\\dev\\sim4life\\ThirdPartyLibs\\svn-esx_SuperMash_libraries_thrift_thrift-0.11.0-msvc-14.0\\thrift\\lib\\py\\build\\lib.win-amd64-2.7') # this is the thrift library\n",
    "\n",
    "import application # this ithe API to s4l!\n",
    "from application import Application\n",
    "from application import ProcessFactory\n",
    "from application import Logger\n",
    "from application.ttypes import SessionError\n",
    "\n",
    "import modeler\n",
    "from modeler import Modeler\n",
    "\n",
    "from thrift import Thrift\n",
    "from thrift.transport import TSocket\n",
    "from thrift.transport import TTransport\n",
    "from thrift.protocol import TBinaryProtocol\n",
    "from thrift.protocol import TMultiplexedProtocol\n"
   ]
  },
  {
   "cell_type": "code",
   "execution_count": 6,
   "metadata": {},
   "outputs": [],
   "source": [
    "class XRpcThriftInterface:\n",
    "    applicationClient = 0\n",
    "    modelerClient = 0\n",
    "    studiesClient = 0\n",
    "    loggerClient = 0\n",
    "    \n",
    "    # this is used for standard buffer transports\n",
    "    def connectToStandardBufferInterface(self, ip, port, clientService):\n",
    "        #make socket for processFactory interface\n",
    "        transport = TSocket.TSocket(ip, port)\n",
    "        # Buffering is critical. Raw sockets are very slow\n",
    "        transport = TTransport.TBufferedTransport(transport)\n",
    "\n",
    "        # Wrap in a protocol\n",
    "        protocol = TBinaryProtocol.TBinaryProtocol(transport)\n",
    "        # Create a client\n",
    "        client = clientService.Client(protocol)\n",
    "        # Connect\n",
    "        transport.open()\n",
    "        return client;\n",
    "\n",
    "    # this is used for multiplexed interfaces (seems not available in nodeJS yet)\n",
    "    def connectToMultiplexedInterface(self, ip, port, serviceNames, serviceClients):\n",
    "        #make socket for modeler interface\n",
    "        socket = TSocket.TSocket(ip, port)\n",
    "        # Buffering is critical. Raw sockets are very slow\n",
    "        transport = TTransport.TBufferedTransport(socket)\n",
    "        # Wrap in a protocol\n",
    "        protocol = TBinaryProtocol.TBinaryProtocol(transport)\n",
    "\n",
    "        clients = []\n",
    "        for i in range(0,len(serviceNames)):\n",
    "            # Wrap in a protocol for the logger service (it-s a multiplexed protocol...)\n",
    "            multiplexedProtocol = TMultiplexedProtocol.TMultiplexedProtocol(protocol, serviceNames[i])\n",
    "            # Create the loggger client\n",
    "            clients.append(serviceClients[i].Client(multiplexedProtocol))\n",
    "\n",
    "        # Connect\n",
    "        transport.open()\n",
    "        return clients;\n",
    "\n",
    "    def connectToThriftInterface(self, ip, basePort, useMultiplexedInterface):\n",
    "        if useMultiplexedInterface == False:\n",
    "            self.applicationClient = self.connectToStandardBufferInterface(ip, basePort, application.Application)\n",
    "            self.modelerClient = self.connectToStandardBufferInterface(ip, basePort + 1, modeler.Modeler)\n",
    "        else:\n",
    "            serviceNames = ['Application', 'Logger', 'Studies', 'Modeler']\n",
    "            serviceClients = [application.Application, application.Logger, studies.Studies, modeler.Modeler]\n",
    "            clients = self.connectToMultiplexedInterface(ip, basePort, serviceNames, serviceClients)\n",
    "            self.applicationClient = clients[0]\n",
    "            self.loggerClient = clients[1]\n",
    "            self.studiesClient = clients[2]\n",
    "            self.modelerClient = clients[3]\n",
    "    \n",
    "    def __init__(self, ip, basePort, multiplexed):\n",
    "        self.connectToThriftInterface(ip, basePort, multiplexed)\n",
    "            "
   ]
  },
  {
   "cell_type": "code",
   "execution_count": 7,
   "metadata": {},
   "outputs": [
    {
     "name": "stderr",
     "output_type": "stream",
     "text": [
      "Could not connect to any of [('127.0.0.1', 9095), ('127.0.0.1', 9095)]\n"
     ]
    },
    {
     "ename": "TTransportException",
     "evalue": "Could not connect to any of [('127.0.0.1', 9095), ('127.0.0.1', 9095)]",
     "output_type": "error",
     "traceback": [
      "\u001b[0;31m---------------------------------------------------------------------------\u001b[0m",
      "\u001b[0;31mTTransportException\u001b[0m                       Traceback (most recent call last)",
      "\u001b[0;32m<ipython-input-7-a9825434d56b>\u001b[0m in \u001b[0;36m<module>\u001b[0;34m\u001b[0m\n\u001b[1;32m      1\u001b[0m \u001b[0mIP\u001b[0m \u001b[0;34m=\u001b[0m \u001b[0;34m'localhost'\u001b[0m\u001b[0;34m\u001b[0m\u001b[0;34m\u001b[0m\u001b[0m\n\u001b[1;32m      2\u001b[0m \u001b[0mPORT\u001b[0m \u001b[0;34m=\u001b[0m \u001b[0;36m9095\u001b[0m\u001b[0;34m;\u001b[0m\u001b[0;34m\u001b[0m\u001b[0;34m\u001b[0m\u001b[0m\n\u001b[0;32m----> 3\u001b[0;31m \u001b[0minterface\u001b[0m \u001b[0;34m=\u001b[0m \u001b[0mXRpcThriftInterface\u001b[0m \u001b[0;34m(\u001b[0m\u001b[0mIP\u001b[0m\u001b[0;34m,\u001b[0m \u001b[0mPORT\u001b[0m\u001b[0;34m,\u001b[0m \u001b[0;32mFalse\u001b[0m\u001b[0;34m)\u001b[0m\u001b[0;34m\u001b[0m\u001b[0;34m\u001b[0m\u001b[0m\n\u001b[0m",
      "\u001b[0;32m<ipython-input-6-56feb7fcc9d1>\u001b[0m in \u001b[0;36m__init__\u001b[0;34m(self, ip, basePort, multiplexed)\u001b[0m\n\u001b[1;32m     54\u001b[0m \u001b[0;34m\u001b[0m\u001b[0m\n\u001b[1;32m     55\u001b[0m     \u001b[0;32mdef\u001b[0m \u001b[0m__init__\u001b[0m\u001b[0;34m(\u001b[0m\u001b[0mself\u001b[0m\u001b[0;34m,\u001b[0m \u001b[0mip\u001b[0m\u001b[0;34m,\u001b[0m \u001b[0mbasePort\u001b[0m\u001b[0;34m,\u001b[0m \u001b[0mmultiplexed\u001b[0m\u001b[0;34m)\u001b[0m\u001b[0;34m:\u001b[0m\u001b[0;34m\u001b[0m\u001b[0;34m\u001b[0m\u001b[0m\n\u001b[0;32m---> 56\u001b[0;31m         \u001b[0mself\u001b[0m\u001b[0;34m.\u001b[0m\u001b[0mconnectToThriftInterface\u001b[0m\u001b[0;34m(\u001b[0m\u001b[0mip\u001b[0m\u001b[0;34m,\u001b[0m \u001b[0mbasePort\u001b[0m\u001b[0;34m,\u001b[0m \u001b[0mmultiplexed\u001b[0m\u001b[0;34m)\u001b[0m\u001b[0;34m\u001b[0m\u001b[0;34m\u001b[0m\u001b[0m\n\u001b[0m\u001b[1;32m     57\u001b[0m \u001b[0;34m\u001b[0m\u001b[0m\n",
      "\u001b[0;32m<ipython-input-6-56feb7fcc9d1>\u001b[0m in \u001b[0;36mconnectToThriftInterface\u001b[0;34m(self, ip, basePort, useMultiplexedInterface)\u001b[0m\n\u001b[1;32m     42\u001b[0m     \u001b[0;32mdef\u001b[0m \u001b[0mconnectToThriftInterface\u001b[0m\u001b[0;34m(\u001b[0m\u001b[0mself\u001b[0m\u001b[0;34m,\u001b[0m \u001b[0mip\u001b[0m\u001b[0;34m,\u001b[0m \u001b[0mbasePort\u001b[0m\u001b[0;34m,\u001b[0m \u001b[0museMultiplexedInterface\u001b[0m\u001b[0;34m)\u001b[0m\u001b[0;34m:\u001b[0m\u001b[0;34m\u001b[0m\u001b[0;34m\u001b[0m\u001b[0m\n\u001b[1;32m     43\u001b[0m         \u001b[0;32mif\u001b[0m \u001b[0museMultiplexedInterface\u001b[0m \u001b[0;34m==\u001b[0m \u001b[0;32mFalse\u001b[0m\u001b[0;34m:\u001b[0m\u001b[0;34m\u001b[0m\u001b[0;34m\u001b[0m\u001b[0m\n\u001b[0;32m---> 44\u001b[0;31m             \u001b[0mself\u001b[0m\u001b[0;34m.\u001b[0m\u001b[0mapplicationClient\u001b[0m \u001b[0;34m=\u001b[0m \u001b[0mself\u001b[0m\u001b[0;34m.\u001b[0m\u001b[0mconnectToStandardBufferInterface\u001b[0m\u001b[0;34m(\u001b[0m\u001b[0mip\u001b[0m\u001b[0;34m,\u001b[0m \u001b[0mbasePort\u001b[0m\u001b[0;34m,\u001b[0m \u001b[0mapplication\u001b[0m\u001b[0;34m.\u001b[0m\u001b[0mApplication\u001b[0m\u001b[0;34m)\u001b[0m\u001b[0;34m\u001b[0m\u001b[0;34m\u001b[0m\u001b[0m\n\u001b[0m\u001b[1;32m     45\u001b[0m             \u001b[0mself\u001b[0m\u001b[0;34m.\u001b[0m\u001b[0mmodelerClient\u001b[0m \u001b[0;34m=\u001b[0m \u001b[0mself\u001b[0m\u001b[0;34m.\u001b[0m\u001b[0mconnectToStandardBufferInterface\u001b[0m\u001b[0;34m(\u001b[0m\u001b[0mip\u001b[0m\u001b[0;34m,\u001b[0m \u001b[0mbasePort\u001b[0m \u001b[0;34m+\u001b[0m \u001b[0;36m1\u001b[0m\u001b[0;34m,\u001b[0m \u001b[0mmodeler\u001b[0m\u001b[0;34m.\u001b[0m\u001b[0mModeler\u001b[0m\u001b[0;34m)\u001b[0m\u001b[0;34m\u001b[0m\u001b[0;34m\u001b[0m\u001b[0m\n\u001b[1;32m     46\u001b[0m         \u001b[0;32melse\u001b[0m\u001b[0;34m:\u001b[0m\u001b[0;34m\u001b[0m\u001b[0;34m\u001b[0m\u001b[0m\n",
      "\u001b[0;32m<ipython-input-6-56feb7fcc9d1>\u001b[0m in \u001b[0;36mconnectToStandardBufferInterface\u001b[0;34m(self, ip, port, clientService)\u001b[0m\n\u001b[1;32m     17\u001b[0m         \u001b[0mclient\u001b[0m \u001b[0;34m=\u001b[0m \u001b[0mclientService\u001b[0m\u001b[0;34m.\u001b[0m\u001b[0mClient\u001b[0m\u001b[0;34m(\u001b[0m\u001b[0mprotocol\u001b[0m\u001b[0;34m)\u001b[0m\u001b[0;34m\u001b[0m\u001b[0;34m\u001b[0m\u001b[0m\n\u001b[1;32m     18\u001b[0m         \u001b[0;31m# Connect\u001b[0m\u001b[0;34m\u001b[0m\u001b[0;34m\u001b[0m\u001b[0;34m\u001b[0m\u001b[0m\n\u001b[0;32m---> 19\u001b[0;31m         \u001b[0mtransport\u001b[0m\u001b[0;34m.\u001b[0m\u001b[0mopen\u001b[0m\u001b[0;34m(\u001b[0m\u001b[0;34m)\u001b[0m\u001b[0;34m\u001b[0m\u001b[0;34m\u001b[0m\u001b[0m\n\u001b[0m\u001b[1;32m     20\u001b[0m         \u001b[0;32mreturn\u001b[0m \u001b[0mclient\u001b[0m\u001b[0;34m;\u001b[0m\u001b[0;34m\u001b[0m\u001b[0;34m\u001b[0m\u001b[0m\n\u001b[1;32m     21\u001b[0m \u001b[0;34m\u001b[0m\u001b[0m\n",
      "\u001b[0;32m/opt/conda/lib/python3.7/site-packages/thrift/transport/TTransport.py\u001b[0m in \u001b[0;36mopen\u001b[0;34m(self)\u001b[0m\n\u001b[1;32m    151\u001b[0m \u001b[0;34m\u001b[0m\u001b[0m\n\u001b[1;32m    152\u001b[0m     \u001b[0;32mdef\u001b[0m \u001b[0mopen\u001b[0m\u001b[0;34m(\u001b[0m\u001b[0mself\u001b[0m\u001b[0;34m)\u001b[0m\u001b[0;34m:\u001b[0m\u001b[0;34m\u001b[0m\u001b[0;34m\u001b[0m\u001b[0m\n\u001b[0;32m--> 153\u001b[0;31m         \u001b[0;32mreturn\u001b[0m \u001b[0mself\u001b[0m\u001b[0;34m.\u001b[0m\u001b[0m__trans\u001b[0m\u001b[0;34m.\u001b[0m\u001b[0mopen\u001b[0m\u001b[0;34m(\u001b[0m\u001b[0;34m)\u001b[0m\u001b[0;34m\u001b[0m\u001b[0;34m\u001b[0m\u001b[0m\n\u001b[0m\u001b[1;32m    154\u001b[0m \u001b[0;34m\u001b[0m\u001b[0m\n\u001b[1;32m    155\u001b[0m     \u001b[0;32mdef\u001b[0m \u001b[0mclose\u001b[0m\u001b[0;34m(\u001b[0m\u001b[0mself\u001b[0m\u001b[0;34m)\u001b[0m\u001b[0;34m:\u001b[0m\u001b[0;34m\u001b[0m\u001b[0;34m\u001b[0m\u001b[0m\n",
      "\u001b[0;32m/opt/conda/lib/python3.7/site-packages/thrift/transport/TSocket.py\u001b[0m in \u001b[0;36mopen\u001b[0;34m(self)\u001b[0m\n\u001b[1;32m    111\u001b[0m                                                           addrs))\n\u001b[1;32m    112\u001b[0m         \u001b[0mlogger\u001b[0m\u001b[0;34m.\u001b[0m\u001b[0merror\u001b[0m\u001b[0;34m(\u001b[0m\u001b[0mmsg\u001b[0m\u001b[0;34m)\u001b[0m\u001b[0;34m\u001b[0m\u001b[0;34m\u001b[0m\u001b[0m\n\u001b[0;32m--> 113\u001b[0;31m         \u001b[0;32mraise\u001b[0m \u001b[0mTTransportException\u001b[0m\u001b[0;34m(\u001b[0m\u001b[0mTTransportException\u001b[0m\u001b[0;34m.\u001b[0m\u001b[0mNOT_OPEN\u001b[0m\u001b[0;34m,\u001b[0m \u001b[0mmsg\u001b[0m\u001b[0;34m)\u001b[0m\u001b[0;34m\u001b[0m\u001b[0;34m\u001b[0m\u001b[0m\n\u001b[0m\u001b[1;32m    114\u001b[0m \u001b[0;34m\u001b[0m\u001b[0m\n\u001b[1;32m    115\u001b[0m     \u001b[0;32mdef\u001b[0m \u001b[0mread\u001b[0m\u001b[0;34m(\u001b[0m\u001b[0mself\u001b[0m\u001b[0;34m,\u001b[0m \u001b[0msz\u001b[0m\u001b[0;34m)\u001b[0m\u001b[0;34m:\u001b[0m\u001b[0;34m\u001b[0m\u001b[0;34m\u001b[0m\u001b[0m\n",
      "\u001b[0;31mTTransportException\u001b[0m: Could not connect to any of [('127.0.0.1', 9095), ('127.0.0.1', 9095)]"
     ]
    }
   ],
   "source": [
    "IP = 'localhost'\n",
    "PORT = 9095;\n",
    "interface = XRpcThriftInterface (IP, PORT, False)"
   ]
  },
  {
   "cell_type": "code",
   "execution_count": 14,
   "metadata": {},
   "outputs": [
    {
     "name": "stdout",
     "output_type": "stream",
     "text": [
      "('Getting application version:', ApiVersion(major=1, minor=0), '\\n')\n"
     ]
    }
   ],
   "source": [
    "applicationApiVersion = interface.applicationClient.GetApiVersion()\n",
    "print (\"Getting application version:\", applicationApiVersion, \"\\n\")"
   ]
  },
  {
   "cell_type": "code",
   "execution_count": 15,
   "metadata": {},
   "outputs": [],
   "source": [
    "interface.applicationClient.NewDocument()\n",
    "interface.modelerClient.ImportModel(r'c:\\app\\data\\DemoDec_OnlyHead_Clean_Neuron.smash')\n",
    "#interface.modelerClient.ImportModel(r'C:\\tmp\\DecDemo_Modeler_nobones_1group.smash')"
   ]
  },
  {
   "cell_type": "code",
   "execution_count": 16,
   "metadata": {},
   "outputs": [
    {
     "data": {
      "text/plain": [
       "[Entity(name=u'Cover Loops 33', pathUuids=u'00000000-0000-0000-0000-000000000000/a27246d2-11b6-4ee9-8d55-aed7ddc3a564/fa072129-f9b7-452b-8b1a-ec3e85cbed3c', has_geometry=True, color=Color(a=1.0, r=0.9750000238418579, b=0.02499997615814209, g=0.07697167992591858), pathNames=u'Model/Surfaces/Cover Loops 33', children=[], uuid=u'fa072129-f9b7-452b-8b1a-ec3e85cbed3c'),\n",
       " Entity(name=u'Cover Loops 23', pathUuids=u'00000000-0000-0000-0000-000000000000/a27246d2-11b6-4ee9-8d55-aed7ddc3a564/3fd40219-0afa-41d6-9649-fb839310e0ad', has_geometry=True, color=Color(a=1.0, r=0.4350651502609253, b=0.9750000238418579, g=0.02499997615814209), pathNames=u'Model/Surfaces/Cover Loops 23', children=[], uuid=u'3fd40219-0afa-41d6-9649-fb839310e0ad'),\n",
       " Entity(name=u'Cover Loops 13', pathUuids=u'00000000-0000-0000-0000-000000000000/a27246d2-11b6-4ee9-8d55-aed7ddc3a564/66f27a8f-50e2-4bab-af21-31f6268ffabe', has_geometry=True, color=Color(a=1.0, r=0.02499997615814209, b=0.9750000238418579, g=0.6428734660148621), pathNames=u'Model/Surfaces/Cover Loops 13', children=[], uuid=u'66f27a8f-50e2-4bab-af21-31f6268ffabe'),\n",
       " Entity(name=u'Cover Loops 3', pathUuids=u'00000000-0000-0000-0000-000000000000/a27246d2-11b6-4ee9-8d55-aed7ddc3a564/f998e6a7-81df-43d4-97fb-03af4a701a3b', has_geometry=True, color=Color(a=1.0, r=0.02499997615814209, b=0.27918896079063416, g=0.9750000238418579), pathNames=u'Model/Surfaces/Cover Loops 3', children=[], uuid=u'f998e6a7-81df-43d4-97fb-03af4a701a3b'),\n",
       " Entity(name=u'Cover Loops 30', pathUuids=u'00000000-0000-0000-0000-000000000000/f618e9e5-dd1c-41ed-b171-2a47bdae7743/4a302e08-d72d-4f60-bb31-3482f48a1565', has_geometry=True, color=Color(a=1.0, r=0.9750000238418579, b=0.02499997615814209, g=0.3946210443973541), pathNames=u'Model/Nerve_Folder/Cover Loops 30', children=[], uuid=u'4a302e08-d72d-4f60-bb31-3482f48a1565'),\n",
       " Entity(name=u'Cover Loops 20', pathUuids=u'00000000-0000-0000-0000-000000000000/f618e9e5-dd1c-41ed-b171-2a47bdae7743/c8c5a412-1f2f-4a8c-a7ca-e4af5b0e2a8f', has_geometry=True, color=Color(a=1.0, r=0.9750000238418579, b=0.6833168864250183, g=0.02499997615814209), pathNames=u'Model/Nerve_Folder/Cover Loops 20', children=[], uuid=u'c8c5a412-1f2f-4a8c-a7ca-e4af5b0e2a8f'),\n",
       " Entity(name=u'Cover Loops 10', pathUuids=u'00000000-0000-0000-0000-000000000000/f618e9e5-dd1c-41ed-b171-2a47bdae7743/a9fa57a1-2db7-458c-bd30-9e807941796a', has_geometry=True, color=Color(a=1.0, r=0.23874469101428986, b=0.9750000238418579, g=0.02499997615814209), pathNames=u'Model/Nerve_Folder/Cover Loops 10', children=[], uuid=u'a9fa57a1-2db7-458c-bd30-9e807941796a'),\n",
       " Entity(name=u'Cover Loops 34', pathUuids=u'00000000-0000-0000-0000-000000000000/a27246d2-11b6-4ee9-8d55-aed7ddc3a564/00fe5750-2b1c-42d9-a6a3-9f8d44fb9316', has_geometry=True, color=Color(a=1.0, r=0.02499997615814209, b=0.9750000238418579, g=0.7642037272453308), pathNames=u'Model/Surfaces/Cover Loops 34', children=[], uuid=u'00fe5750-2b1c-42d9-a6a3-9f8d44fb9316'),\n",
       " Entity(name=u'Cover Loops 24', pathUuids=u'00000000-0000-0000-0000-000000000000/a27246d2-11b6-4ee9-8d55-aed7ddc3a564/d3229400-3d6e-4c9e-b8fb-f0d3994f11ec', has_geometry=True, color=Color(a=1.0, r=0.02499997615814209, b=0.1578586846590042, g=0.9750000238418579), pathNames=u'Model/Surfaces/Cover Loops 24', children=[], uuid=u'd3229400-3d6e-4c9e-b8fb-f0d3994f11ec'),\n",
       " Entity(name=u'Cover Loops 14', pathUuids=u'00000000-0000-0000-0000-000000000000/a27246d2-11b6-4ee9-8d55-aed7ddc3a564/c296c84a-e194-413f-aa8a-17e573388f7e', has_geometry=True, color=Color(a=1.0, r=0.9200794100761414, b=0.02499997615814209, g=0.9750000238418579), pathNames=u'Model/Surfaces/Cover Loops 14', children=[], uuid=u'c296c84a-e194-413f-aa8a-17e573388f7e'),\n",
       " Entity(name=u'Cover Loops 4', pathUuids=u'00000000-0000-0000-0000-000000000000/a27246d2-11b6-4ee9-8d55-aed7ddc3a564/634b3920-340c-48d1-abf2-1ef0c711c16f', has_geometry=True, color=Color(a=1.0, r=0.9750000238418579, b=0.048017460852861404, g=0.02499997615814209), pathNames=u'Model/Surfaces/Cover Loops 4', children=[], uuid=u'634b3920-340c-48d1-abf2-1ef0c711c16f'),\n",
       " Entity(name=u'Cover Loops 31', pathUuids=u'00000000-0000-0000-0000-000000000000/f618e9e5-dd1c-41ed-b171-2a47bdae7743/e1a0f2e3-6894-4b3e-90e5-69bb146041a4', has_geometry=True, color=Color(a=1.0, r=0.11741510033607483, b=0.9750000238418579, g=0.02499997615814209), pathNames=u'Model/Nerve_Folder/Cover Loops 31', children=[], uuid=u'e1a0f2e3-6894-4b3e-90e5-69bb146041a4'),\n",
       " Entity(name=u'Cover Loops 21', pathUuids=u'00000000-0000-0000-0000-000000000000/f618e9e5-dd1c-41ed-b171-2a47bdae7743/96306d62-3eee-445b-947e-8ede15cb993b', has_geometry=True, color=Color(a=1.0, r=0.02499997615814209, b=0.9750000238418579, g=0.9605228304862976), pathNames=u'Model/Nerve_Folder/Cover Loops 21', children=[], uuid=u'96306d62-3eee-445b-947e-8ede15cb993b'),\n",
       " Entity(name=u'Cover Loops 11', pathUuids=u'00000000-0000-0000-0000-000000000000/f618e9e5-dd1c-41ed-b171-2a47bdae7743/39ff63a7-a967-417c-bdf0-9a6f4c92d3ea', has_geometry=True, color=Color(a=1.0, r=0.08846088498830795, b=0.02499997615814209, g=0.9750000238418579), pathNames=u'Model/Nerve_Folder/Cover Loops 11', children=[], uuid=u'39ff63a7-a967-417c-bdf0-9a6f4c92d3ea'),\n",
       " Entity(name=u'Nerve', pathUuids=u'00000000-0000-0000-0000-000000000000/f618e9e5-dd1c-41ed-b171-2a47bdae7743/d911fa56-a33b-429c-801a-7b8db18afd24', has_geometry=True, color=Color(a=1.0, r=0.9750000238418579, b=0.02499997615814209, g=0.8336013555526733), pathNames=u'Model/Nerve_Folder/Nerve', children=[], uuid=u'd911fa56-a33b-429c-801a-7b8db18afd24'),\n",
       " Entity(name=u'Cover Loops 35', pathUuids=u'00000000-0000-0000-0000-000000000000/a27246d2-11b6-4ee9-8d55-aed7ddc3a564/3efa6707-8461-4627-ac37-efaa9a023a01', has_geometry=True, color=Color(a=1.0, r=0.9750000238418579, b=0.02499997615814209, g=0.9085902571678162), pathNames=u'Model/Surfaces/Cover Loops 35', children=[], uuid=u'3efa6707-8461-4627-ac37-efaa9a023a01'),\n",
       " Entity(name=u'Cover Loops 25', pathUuids=u'00000000-0000-0000-0000-000000000000/a27246d2-11b6-4ee9-8d55-aed7ddc3a564/cfa1f684-7dde-44ee-9b32-977186e6ad56', has_geometry=True, color=Color(a=1.0, r=0.9750000238418579, b=0.16934773325920105, g=0.02499997615814209), pathNames=u'Model/Surfaces/Cover Loops 25', children=[], uuid=u'cfa1f684-7dde-44ee-9b32-977186e6ad56'),\n",
       " Entity(name=u'Cover Loops 15', pathUuids=u'00000000-0000-0000-0000-000000000000/a27246d2-11b6-4ee9-8d55-aed7ddc3a564/7b27eab5-8121-4326-baf4-36ec75dd6320', has_geometry=True, color=Color(a=1.0, r=0.7527145147323608, b=0.9750000238418579, g=0.02499997615814209), pathNames=u'Model/Surfaces/Cover Loops 15', children=[], uuid=u'7b27eab5-8121-4326-baf4-36ec75dd6320'),\n",
       " Entity(name=u'Cover Loops 5', pathUuids=u'00000000-0000-0000-0000-000000000000/a27246d2-11b6-4ee9-8d55-aed7ddc3a564/9cec10b8-8080-484b-a432-64e9a686324c', has_geometry=True, color=Color(a=1.0, r=0.02499997615814209, b=0.9750000238418579, g=0.3252241015434265), pathNames=u'Model/Surfaces/Cover Loops 5', children=[], uuid=u'9cec10b8-8080-484b-a432-64e9a686324c'),\n",
       " Entity(name=u'Cover Loops 32', pathUuids=u'00000000-0000-0000-0000-000000000000/f618e9e5-dd1c-41ed-b171-2a47bdae7743/a5d53be0-4c89-490b-941e-f22278327d9c', has_geometry=True, color=Color(a=1.0, r=0.2097911536693573, b=0.02499997615814209, g=0.9750000238418579), pathNames=u'Model/Nerve_Folder/Cover Loops 32', children=[], uuid=u'a5d53be0-4c89-490b-941e-f22278327d9c'),\n",
       " Entity(name=u'Cover Loops 22', pathUuids=u'00000000-0000-0000-0000-000000000000/f618e9e5-dd1c-41ed-b171-2a47bdae7743/b11a18b6-e24e-4315-b3aa-1c1b91e21b72', has_geometry=True, color=Color(a=1.0, r=0.9750000238418579, b=0.02499997615814209, g=0.7122710943222046), pathNames=u'Model/Nerve_Folder/Cover Loops 22', children=[], uuid=u'b11a18b6-e24e-4315-b3aa-1c1b91e21b72'),\n",
       " Entity(name=u'Cover Loops 12', pathUuids=u'00000000-0000-0000-0000-000000000000/f618e9e5-dd1c-41ed-b171-2a47bdae7743/060d2041-8b29-4520-8a7e-4a88367ea0c4', has_geometry=True, color=Color(a=1.0, r=0.9750000238418579, b=0.36566752195358276, g=0.02499997615814209), pathNames=u'Model/Nerve_Folder/Cover Loops 12', children=[], uuid=u'060d2041-8b29-4520-8a7e-4a88367ea0c4'),\n",
       " Entity(name=u'Cover Loops 2', pathUuids=u'00000000-0000-0000-0000-000000000000/f618e9e5-dd1c-41ed-b171-2a47bdae7743/165f2dba-6027-4c5a-b0b8-27ac3e2a0244', has_geometry=True, color=Color(a=1.0, r=0.556395411491394, b=0.9750000238418579, g=0.02499997615814209), pathNames=u'Model/Nerve_Folder/Cover Loops 2', children=[], uuid=u'165f2dba-6027-4c5a-b0b8-27ac3e2a0244'),\n",
       " Entity(name=u'Cover Loops 36', pathUuids=u'00000000-0000-0000-0000-000000000000/a27246d2-11b6-4ee9-8d55-aed7ddc3a564/728dbf60-940d-4251-97ca-91ec60048e2b', has_geometry=True, color=Color(a=1.0, r=0.6313842535018921, b=0.9750000238418579, g=0.02499997615814209), pathNames=u'Model/Surfaces/Cover Loops 36', children=[], uuid=u'728dbf60-940d-4251-97ca-91ec60048e2b'),\n",
       " Entity(name=u'Cover Loops 26', pathUuids=u'00000000-0000-0000-0000-000000000000/a27246d2-11b6-4ee9-8d55-aed7ddc3a564/5791ed28-0518-4e4e-ac94-328ae72f1df0', has_geometry=True, color=Color(a=1.0, r=0.02499997615814209, b=0.9750000238418579, g=0.44655436277389526), pathNames=u'Model/Surfaces/Cover Loops 26', children=[], uuid=u'5791ed28-0518-4e4e-ac94-328ae72f1df0'),\n",
       " Entity(name=u'Cover Loops 16', pathUuids=u'00000000-0000-0000-0000-000000000000/a27246d2-11b6-4ee9-8d55-aed7ddc3a564/994c9600-f5b4-43d2-83f1-be57d6f2d1e8', has_geometry=True, color=Color(a=1.0, r=0.02499997615814209, b=0.47550806403160095, g=0.9750000238418579), pathNames=u'Model/Surfaces/Cover Loops 16', children=[], uuid=u'994c9600-f5b4-43d2-83f1-be57d6f2d1e8'),\n",
       " Entity(name=u'Cover Loops 6', pathUuids=u'00000000-0000-0000-0000-000000000000/a27246d2-11b6-4ee9-8d55-aed7ddc3a564/f7d0a10f-cdb2-4fe2-817c-20859e949a39', has_geometry=True, color=Color(a=1.0, r=0.6024300456047058, b=0.02499997615814209, g=0.9750000238418579), pathNames=u'Model/Surfaces/Cover Loops 6', children=[], uuid=u'f7d0a10f-cdb2-4fe2-817c-20859e949a39'),\n",
       " Entity(name=u'Cover Loops 33', pathUuids=u'00000000-0000-0000-0000-000000000000/f618e9e5-dd1c-41ed-b171-2a47bdae7743/bd1ddcdb-c763-43ec-a78d-7e4380642f99', has_geometry=True, color=Color(a=1.0, r=0.9750000238418579, b=0.02499997615814209, g=0.07697167992591858), pathNames=u'Model/Nerve_Folder/Cover Loops 33', children=[], uuid=u'bd1ddcdb-c763-43ec-a78d-7e4380642f99'),\n",
       " Entity(name=u'Cover Loops 23', pathUuids=u'00000000-0000-0000-0000-000000000000/f618e9e5-dd1c-41ed-b171-2a47bdae7743/48d6f1db-917a-49ca-9a27-d9d4dd8c6b89', has_geometry=True, color=Color(a=1.0, r=0.4350651502609253, b=0.9750000238418579, g=0.02499997615814209), pathNames=u'Model/Nerve_Folder/Cover Loops 23', children=[], uuid=u'48d6f1db-917a-49ca-9a27-d9d4dd8c6b89'),\n",
       " Entity(name=u'Cover Loops 13', pathUuids=u'00000000-0000-0000-0000-000000000000/f618e9e5-dd1c-41ed-b171-2a47bdae7743/9074216e-d3bb-49ae-a49e-24ecb14576f0', has_geometry=True, color=Color(a=1.0, r=0.02499997615814209, b=0.9750000238418579, g=0.6428734660148621), pathNames=u'Model/Nerve_Folder/Cover Loops 13', children=[], uuid=u'9074216e-d3bb-49ae-a49e-24ecb14576f0'),\n",
       " Entity(name=u'Cover Loops 3', pathUuids=u'00000000-0000-0000-0000-000000000000/f618e9e5-dd1c-41ed-b171-2a47bdae7743/340a3688-a947-4013-8005-1c8897e94129', has_geometry=True, color=Color(a=1.0, r=0.02499997615814209, b=0.27918896079063416, g=0.9750000238418579), pathNames=u'Model/Nerve_Folder/Cover Loops 3', children=[], uuid=u'340a3688-a947-4013-8005-1c8897e94129'),\n",
       " Entity(name=u'Cover Loops 27', pathUuids=u'00000000-0000-0000-0000-000000000000/a27246d2-11b6-4ee9-8d55-aed7ddc3a564/055f59ca-110e-4894-9ade-8c3ad558ce51', has_geometry=True, color=Color(a=1.0, r=0.7237603068351746, b=0.02499997615814209, g=0.9750000238418579), pathNames=u'Model/Surfaces/Cover Loops 27', children=[], uuid=u'055f59ca-110e-4894-9ade-8c3ad558ce51'),\n",
       " Entity(name=u'Cover Loops 17', pathUuids=u'00000000-0000-0000-0000-000000000000/a27246d2-11b6-4ee9-8d55-aed7ddc3a564/4fb66f6c-2037-4360-bee0-8db409856c23', has_geometry=True, color=Color(a=1.0, r=0.9750000238418579, b=0.02499997615814209, g=0.19830194115638733), pathNames=u'Model/Surfaces/Cover Loops 17', children=[], uuid=u'4fb66f6c-2037-4360-bee0-8db409856c23'),\n",
       " Entity(name=u'Cover Loops 7', pathUuids=u'00000000-0000-0000-0000-000000000000/a27246d2-11b6-4ee9-8d55-aed7ddc3a564/c190e1be-e4f7-4818-a022-a18461faed7f', has_geometry=True, color=Color(a=1.0, r=0.9750000238418579, b=0.8796367049217224, g=0.02499997615814209), pathNames=u'Model/Surfaces/Cover Loops 7', children=[], uuid=u'c190e1be-e4f7-4818-a022-a18461faed7f'),\n",
       " Entity(name=u'Cover Loops 34', pathUuids=u'00000000-0000-0000-0000-000000000000/f618e9e5-dd1c-41ed-b171-2a47bdae7743/9121d6be-6b35-45d0-8859-6802c72bf878', has_geometry=True, color=Color(a=1.0, r=0.02499997615814209, b=0.9750000238418579, g=0.7642037272453308), pathNames=u'Model/Nerve_Folder/Cover Loops 34', children=[], uuid=u'9121d6be-6b35-45d0-8859-6802c72bf878'),\n",
       " Entity(name=u'Cover Loops 24', pathUuids=u'00000000-0000-0000-0000-000000000000/f618e9e5-dd1c-41ed-b171-2a47bdae7743/c0f435b6-08c6-4beb-b8aa-4ad435d2007c', has_geometry=True, color=Color(a=1.0, r=0.02499997615814209, b=0.1578586846590042, g=0.9750000238418579), pathNames=u'Model/Nerve_Folder/Cover Loops 24', children=[], uuid=u'c0f435b6-08c6-4beb-b8aa-4ad435d2007c'),\n",
       " Entity(name=u'Cover Loops 14', pathUuids=u'00000000-0000-0000-0000-000000000000/f618e9e5-dd1c-41ed-b171-2a47bdae7743/73ba0a28-0a0c-497f-9367-054b16b1a061', has_geometry=True, color=Color(a=1.0, r=0.9200794100761414, b=0.02499997615814209, g=0.9750000238418579), pathNames=u'Model/Nerve_Folder/Cover Loops 14', children=[], uuid=u'73ba0a28-0a0c-497f-9367-054b16b1a061'),\n",
       " Entity(name=u'Cover Loops 4', pathUuids=u'00000000-0000-0000-0000-000000000000/f618e9e5-dd1c-41ed-b171-2a47bdae7743/df410b0d-1cd0-4d3e-b1ef-8a567408c045', has_geometry=True, color=Color(a=1.0, r=0.9750000238418579, b=0.048017460852861404, g=0.02499997615814209), pathNames=u'Model/Nerve_Folder/Cover Loops 4', children=[], uuid=u'df410b0d-1cd0-4d3e-b1ef-8a567408c045'),\n",
       " Entity(name=u'Cover Loops 28', pathUuids=u'00000000-0000-0000-0000-000000000000/a27246d2-11b6-4ee9-8d55-aed7ddc3a564/377711c4-01f3-4ae4-a1bb-075c2bcae693', has_geometry=True, color=Color(a=1.0, r=0.9490336775779724, b=0.9750000238418579, g=0.02499997615814209), pathNames=u'Model/Surfaces/Cover Loops 28', children=[], uuid=u'377711c4-01f3-4ae4-a1bb-075c2bcae693'),\n",
       " Entity(name=u'Cover Loops 18', pathUuids=u'00000000-0000-0000-0000-000000000000/a27246d2-11b6-4ee9-8d55-aed7ddc3a564/05a70ab9-4d5e-46b0-b368-c3f07f31f8ad', has_geometry=True, color=Color(a=1.0, r=0.02499997615814209, b=0.9750000238418579, g=0.1289043128490448), pathNames=u'Model/Surfaces/Cover Loops 18', children=[], uuid=u'05a70ab9-4d5e-46b0-b368-c3f07f31f8ad'),\n",
       " Entity(name=u'Cover Loops 8', pathUuids=u'00000000-0000-0000-0000-000000000000/a27246d2-11b6-4ee9-8d55-aed7ddc3a564/1929a1d9-de42-4962-b314-2c955ff9cf4a', has_geometry=True, color=Color(a=1.0, r=0.02499997615814209, b=0.7931567430496216, g=0.9750000238418579), pathNames=u'Model/Surfaces/Cover Loops 8', children=[], uuid=u'1929a1d9-de42-4962-b314-2c955ff9cf4a'),\n",
       " Entity(name=u'Cover Loops 35', pathUuids=u'00000000-0000-0000-0000-000000000000/f618e9e5-dd1c-41ed-b171-2a47bdae7743/e4ba10e6-aac4-4b74-8664-339901df20b1', has_geometry=True, color=Color(a=1.0, r=0.9750000238418579, b=0.02499997615814209, g=0.9085902571678162), pathNames=u'Model/Nerve_Folder/Cover Loops 35', children=[], uuid=u'e4ba10e6-aac4-4b74-8664-339901df20b1'),\n",
       " Entity(name=u'Cover Loops 25', pathUuids=u'00000000-0000-0000-0000-000000000000/f618e9e5-dd1c-41ed-b171-2a47bdae7743/ccbfb878-4434-4b0f-b93a-cf708ec7de07', has_geometry=True, color=Color(a=1.0, r=0.9750000238418579, b=0.16934773325920105, g=0.02499997615814209), pathNames=u'Model/Nerve_Folder/Cover Loops 25', children=[], uuid=u'ccbfb878-4434-4b0f-b93a-cf708ec7de07'),\n",
       " Entity(name=u'Cover Loops 15', pathUuids=u'00000000-0000-0000-0000-000000000000/f618e9e5-dd1c-41ed-b171-2a47bdae7743/2b0f9d61-cdd8-4641-999f-7e647c67670d', has_geometry=True, color=Color(a=1.0, r=0.7527145147323608, b=0.9750000238418579, g=0.02499997615814209), pathNames=u'Model/Nerve_Folder/Cover Loops 15', children=[], uuid=u'2b0f9d61-cdd8-4641-999f-7e647c67670d'),\n",
       " Entity(name=u'Cover Loops 5', pathUuids=u'00000000-0000-0000-0000-000000000000/f618e9e5-dd1c-41ed-b171-2a47bdae7743/b3d1edff-fbfc-4f74-a237-86f87edb2bf1', has_geometry=True, color=Color(a=1.0, r=0.02499997615814209, b=0.9750000238418579, g=0.3252241015434265), pathNames=u'Model/Nerve_Folder/Cover Loops 5', children=[], uuid=u'b3d1edff-fbfc-4f74-a237-86f87edb2bf1'),\n",
       " Entity(name=u'Cover Loops 29', pathUuids=u'00000000-0000-0000-0000-000000000000/a27246d2-11b6-4ee9-8d55-aed7ddc3a564/20f4dafd-2e92-4495-b739-54c83c84db87', has_geometry=True, color=Color(a=1.0, r=0.02499997615814209, b=0.6718271970748901, g=0.9750000238418579), pathNames=u'Model/Surfaces/Cover Loops 29', children=[], uuid=u'20f4dafd-2e92-4495-b739-54c83c84db87'),\n",
       " Entity(name=u'Cover Loops 19', pathUuids=u'00000000-0000-0000-0000-000000000000/a27246d2-11b6-4ee9-8d55-aed7ddc3a564/24528d51-6e28-48c8-bfe4-b9cceda07251', has_geometry=True, color=Color(a=1.0, r=0.4061102867126465, b=0.02499997615814209, g=0.9750000238418579), pathNames=u'Model/Surfaces/Cover Loops 19', children=[], uuid=u'24528d51-6e28-48c8-bfe4-b9cceda07251'),\n",
       " Entity(name=u'Cover Loops 9', pathUuids=u'00000000-0000-0000-0000-000000000000/a27246d2-11b6-4ee9-8d55-aed7ddc3a564/4f58ec80-cdac-4eda-9a74-0a808647138e', has_geometry=True, color=Color(a=1.0, r=0.9750000238418579, b=0.02499997615814209, g=0.5159506797790527), pathNames=u'Model/Surfaces/Cover Loops 9', children=[], uuid=u'4f58ec80-cdac-4eda-9a74-0a808647138e'),\n",
       " Entity(name=u'Cover Loops 36', pathUuids=u'00000000-0000-0000-0000-000000000000/f618e9e5-dd1c-41ed-b171-2a47bdae7743/a53ff6d7-3c43-48aa-8303-421b2154fd9e', has_geometry=True, color=Color(a=1.0, r=0.6313842535018921, b=0.9750000238418579, g=0.02499997615814209), pathNames=u'Model/Nerve_Folder/Cover Loops 36', children=[], uuid=u'a53ff6d7-3c43-48aa-8303-421b2154fd9e'),\n",
       " Entity(name=u'Cover Loops 26', pathUuids=u'00000000-0000-0000-0000-000000000000/f618e9e5-dd1c-41ed-b171-2a47bdae7743/be6a0da1-a44d-4d11-8b34-604a19d4ed3d', has_geometry=True, color=Color(a=1.0, r=0.02499997615814209, b=0.9750000238418579, g=0.44655436277389526), pathNames=u'Model/Nerve_Folder/Cover Loops 26', children=[], uuid=u'be6a0da1-a44d-4d11-8b34-604a19d4ed3d'),\n",
       " Entity(name=u'Cover Loops 16', pathUuids=u'00000000-0000-0000-0000-000000000000/f618e9e5-dd1c-41ed-b171-2a47bdae7743/550ba9ca-b8a2-4de8-9ef4-4f26a97bf239', has_geometry=True, color=Color(a=1.0, r=0.02499997615814209, b=0.47550806403160095, g=0.9750000238418579), pathNames=u'Model/Nerve_Folder/Cover Loops 16', children=[], uuid=u'550ba9ca-b8a2-4de8-9ef4-4f26a97bf239'),\n",
       " Entity(name=u'Cover Loops 6', pathUuids=u'00000000-0000-0000-0000-000000000000/f618e9e5-dd1c-41ed-b171-2a47bdae7743/107a08c1-464b-45e5-bfc6-e93bd425720a', has_geometry=True, color=Color(a=1.0, r=0.6024300456047058, b=0.02499997615814209, g=0.9750000238418579), pathNames=u'Model/Nerve_Folder/Cover Loops 6', children=[], uuid=u'107a08c1-464b-45e5-bfc6-e93bd425720a'),\n",
       " Entity(name=u'Cover Loops 30', pathUuids=u'00000000-0000-0000-0000-000000000000/a27246d2-11b6-4ee9-8d55-aed7ddc3a564/cc0ad09c-e2cd-4dad-b7dc-36230943b534', has_geometry=True, color=Color(a=1.0, r=0.9750000238418579, b=0.02499997615814209, g=0.3946210443973541), pathNames=u'Model/Surfaces/Cover Loops 30', children=[], uuid=u'cc0ad09c-e2cd-4dad-b7dc-36230943b534'),\n",
       " Entity(name=u'Cover Loops 20', pathUuids=u'00000000-0000-0000-0000-000000000000/a27246d2-11b6-4ee9-8d55-aed7ddc3a564/c12ea6ba-957c-4908-b46e-c171a18ebb50', has_geometry=True, color=Color(a=1.0, r=0.9750000238418579, b=0.6833168864250183, g=0.02499997615814209), pathNames=u'Model/Surfaces/Cover Loops 20', children=[], uuid=u'c12ea6ba-957c-4908-b46e-c171a18ebb50'),\n",
       " Entity(name=u'Cover Loops 10', pathUuids=u'00000000-0000-0000-0000-000000000000/a27246d2-11b6-4ee9-8d55-aed7ddc3a564/d79fbf98-2ac1-40a4-9f3d-6b8908f6e0f9', has_geometry=True, color=Color(a=1.0, r=0.23874469101428986, b=0.9750000238418579, g=0.02499997615814209), pathNames=u'Model/Surfaces/Cover Loops 10', children=[], uuid=u'd79fbf98-2ac1-40a4-9f3d-6b8908f6e0f9'),\n",
       " Entity(name=u'Cover Loops 27', pathUuids=u'00000000-0000-0000-0000-000000000000/f618e9e5-dd1c-41ed-b171-2a47bdae7743/95757787-cc15-4a8c-967b-3d69af898485', has_geometry=True, color=Color(a=1.0, r=0.7237603068351746, b=0.02499997615814209, g=0.9750000238418579), pathNames=u'Model/Nerve_Folder/Cover Loops 27', children=[], uuid=u'95757787-cc15-4a8c-967b-3d69af898485'),\n",
       " Entity(name=u'Cover Loops 17', pathUuids=u'00000000-0000-0000-0000-000000000000/f618e9e5-dd1c-41ed-b171-2a47bdae7743/91cbf4a3-7be1-4ee1-af04-1775fa0bf3bd', has_geometry=True, color=Color(a=1.0, r=0.9750000238418579, b=0.02499997615814209, g=0.19830194115638733), pathNames=u'Model/Nerve_Folder/Cover Loops 17', children=[], uuid=u'91cbf4a3-7be1-4ee1-af04-1775fa0bf3bd'),\n",
       " Entity(name=u'Cover Loops 7', pathUuids=u'00000000-0000-0000-0000-000000000000/f618e9e5-dd1c-41ed-b171-2a47bdae7743/ff0609ed-cb0b-40d2-b174-41f14947a90d', has_geometry=True, color=Color(a=1.0, r=0.9750000238418579, b=0.8796367049217224, g=0.02499997615814209), pathNames=u'Model/Nerve_Folder/Cover Loops 7', children=[], uuid=u'ff0609ed-cb0b-40d2-b174-41f14947a90d'),\n",
       " Entity(name=u'Cover Loops 31', pathUuids=u'00000000-0000-0000-0000-000000000000/a27246d2-11b6-4ee9-8d55-aed7ddc3a564/d9160532-ada7-4544-acb9-632364cebb7a', has_geometry=True, color=Color(a=1.0, r=0.11741510033607483, b=0.9750000238418579, g=0.02499997615814209), pathNames=u'Model/Surfaces/Cover Loops 31', children=[], uuid=u'd9160532-ada7-4544-acb9-632364cebb7a'),\n",
       " Entity(name=u'Cover Loops 21', pathUuids=u'00000000-0000-0000-0000-000000000000/a27246d2-11b6-4ee9-8d55-aed7ddc3a564/fa3ca51a-2b21-4cd6-ac27-11d13530e822', has_geometry=True, color=Color(a=1.0, r=0.02499997615814209, b=0.9750000238418579, g=0.9605228304862976), pathNames=u'Model/Surfaces/Cover Loops 21', children=[], uuid=u'fa3ca51a-2b21-4cd6-ac27-11d13530e822'),\n",
       " Entity(name=u'Cover Loops 11', pathUuids=u'00000000-0000-0000-0000-000000000000/a27246d2-11b6-4ee9-8d55-aed7ddc3a564/090de550-5399-4ee6-900d-c12f2d938a99', has_geometry=True, color=Color(a=1.0, r=0.08846088498830795, b=0.02499997615814209, g=0.9750000238418579), pathNames=u'Model/Surfaces/Cover Loops 11', children=[], uuid=u'090de550-5399-4ee6-900d-c12f2d938a99'),\n",
       " Entity(name=u'Nerve', pathUuids=u'00000000-0000-0000-0000-000000000000/a27246d2-11b6-4ee9-8d55-aed7ddc3a564/a0a60c30-9c34-45e6-b08b-dcf398e20119', has_geometry=True, color=Color(a=1.0, r=0.9750000238418579, b=0.02499997615814209, g=0.8336013555526733), pathNames=u'Model/Surfaces/Nerve', children=[], uuid=u'a0a60c30-9c34-45e6-b08b-dcf398e20119'),\n",
       " Entity(name=u'Cover Loops 28', pathUuids=u'00000000-0000-0000-0000-000000000000/f618e9e5-dd1c-41ed-b171-2a47bdae7743/a4160194-afc3-47e6-8b33-d28082946243', has_geometry=True, color=Color(a=1.0, r=0.9490336775779724, b=0.9750000238418579, g=0.02499997615814209), pathNames=u'Model/Nerve_Folder/Cover Loops 28', children=[], uuid=u'a4160194-afc3-47e6-8b33-d28082946243'),\n",
       " Entity(name=u'Cover Loops 18', pathUuids=u'00000000-0000-0000-0000-000000000000/f618e9e5-dd1c-41ed-b171-2a47bdae7743/bc27ef4a-befb-427c-8e9b-36cf0be3bd22', has_geometry=True, color=Color(a=1.0, r=0.02499997615814209, b=0.9750000238418579, g=0.1289043128490448), pathNames=u'Model/Nerve_Folder/Cover Loops 18', children=[], uuid=u'bc27ef4a-befb-427c-8e9b-36cf0be3bd22'),\n",
       " Entity(name=u'Cover Loops 8', pathUuids=u'00000000-0000-0000-0000-000000000000/f618e9e5-dd1c-41ed-b171-2a47bdae7743/c86ba305-c997-4ae8-a8ca-3d0db8fb9273', has_geometry=True, color=Color(a=1.0, r=0.02499997615814209, b=0.7931567430496216, g=0.9750000238418579), pathNames=u'Model/Nerve_Folder/Cover Loops 8', children=[], uuid=u'c86ba305-c997-4ae8-a8ca-3d0db8fb9273'),\n",
       " Entity(name=u'Cover Loops 32', pathUuids=u'00000000-0000-0000-0000-000000000000/a27246d2-11b6-4ee9-8d55-aed7ddc3a564/3ed7c8b1-fe6a-454d-a54d-ac366eea18b0', has_geometry=True, color=Color(a=1.0, r=0.2097911536693573, b=0.02499997615814209, g=0.9750000238418579), pathNames=u'Model/Surfaces/Cover Loops 32', children=[], uuid=u'3ed7c8b1-fe6a-454d-a54d-ac366eea18b0'),\n",
       " Entity(name=u'Cover Loops 22', pathUuids=u'00000000-0000-0000-0000-000000000000/a27246d2-11b6-4ee9-8d55-aed7ddc3a564/ec00c511-36af-40e4-bac1-0b3e70539304', has_geometry=True, color=Color(a=1.0, r=0.9750000238418579, b=0.02499997615814209, g=0.7122710943222046), pathNames=u'Model/Surfaces/Cover Loops 22', children=[], uuid=u'ec00c511-36af-40e4-bac1-0b3e70539304'),\n",
       " Entity(name=u'Cover Loops 12', pathUuids=u'00000000-0000-0000-0000-000000000000/a27246d2-11b6-4ee9-8d55-aed7ddc3a564/59f5e073-54cc-4533-a733-5228996e83df', has_geometry=True, color=Color(a=1.0, r=0.9750000238418579, b=0.36566752195358276, g=0.02499997615814209), pathNames=u'Model/Surfaces/Cover Loops 12', children=[], uuid=u'59f5e073-54cc-4533-a733-5228996e83df'),\n",
       " Entity(name=u'Cover Loops 2', pathUuids=u'00000000-0000-0000-0000-000000000000/a27246d2-11b6-4ee9-8d55-aed7ddc3a564/f74f0713-ffb6-4472-8a0d-9bf2d4e1dbde', has_geometry=True, color=Color(a=1.0, r=0.556395411491394, b=0.9750000238418579, g=0.02499997615814209), pathNames=u'Model/Surfaces/Cover Loops 2', children=[], uuid=u'f74f0713-ffb6-4472-8a0d-9bf2d4e1dbde'),\n",
       " Entity(name=u'Cover Loops 29', pathUuids=u'00000000-0000-0000-0000-000000000000/f618e9e5-dd1c-41ed-b171-2a47bdae7743/3ec94a87-5975-4bde-b345-d673e9d15b46', has_geometry=True, color=Color(a=1.0, r=0.02499997615814209, b=0.6718271970748901, g=0.9750000238418579), pathNames=u'Model/Nerve_Folder/Cover Loops 29', children=[], uuid=u'3ec94a87-5975-4bde-b345-d673e9d15b46'),\n",
       " Entity(name=u'Cover Loops 19', pathUuids=u'00000000-0000-0000-0000-000000000000/f618e9e5-dd1c-41ed-b171-2a47bdae7743/2f0b9159-b94c-4531-9129-a81d99a3ea27', has_geometry=True, color=Color(a=1.0, r=0.4061102867126465, b=0.02499997615814209, g=0.9750000238418579), pathNames=u'Model/Nerve_Folder/Cover Loops 19', children=[], uuid=u'2f0b9159-b94c-4531-9129-a81d99a3ea27'),\n",
       " Entity(name=u'Cover Loops 9', pathUuids=u'00000000-0000-0000-0000-000000000000/f618e9e5-dd1c-41ed-b171-2a47bdae7743/995e0f9b-e291-4368-8903-ec274919ff52', has_geometry=True, color=Color(a=1.0, r=0.9750000238418579, b=0.02499997615814209, g=0.5159506797790527), pathNames=u'Model/Nerve_Folder/Cover Loops 9', children=[], uuid=u'995e0f9b-e291-4368-8903-ec274919ff52')]"
      ]
     },
     "execution_count": 16,
     "metadata": {},
     "output_type": "execute_result"
    }
   ],
   "source": [
    "interface.modelerClient.GetFilteredEntities(modeler.ttypes.EntityFilterType.SOLID_BODY)"
   ]
  },
  {
   "cell_type": "code",
   "execution_count": 18,
   "metadata": {},
   "outputs": [
    {
     "ename": "TApplicationException",
     "evalue": "TException - service has thrown: ModelerException(message=Could not find an exporter compatible with the given list of entities)",
     "output_type": "error",
     "traceback": [
      "\u001b[1;31m---------------------------------------------------------------------------\u001b[0m",
      "\u001b[1;31mTApplicationException\u001b[0m                     Traceback (most recent call last)",
      "\u001b[1;32m<ipython-input-18-324ce25a9e19>\u001b[0m in \u001b[0;36m<module>\u001b[1;34m()\u001b[0m\n\u001b[1;32m----> 1\u001b[1;33m \u001b[0minterface\u001b[0m\u001b[1;33m.\u001b[0m\u001b[0mmodelerClient\u001b[0m\u001b[1;33m.\u001b[0m\u001b[0mGetEntitiesEncodedScene\u001b[0m\u001b[1;33m(\u001b[0m\u001b[0mlist_of_uuids\u001b[0m\u001b[1;33m=\u001b[0m\u001b[1;33m[\u001b[0m\u001b[1;34mu'd3229400-3d6e-4c9e-b8fb-f0d3994f11ec'\u001b[0m\u001b[1;33m]\u001b[0m\u001b[1;33m,\u001b[0m \u001b[0mformat\u001b[0m\u001b[1;33m=\u001b[0m\u001b[0mmodeler\u001b[0m\u001b[1;33m.\u001b[0m\u001b[0mttypes\u001b[0m\u001b[1;33m.\u001b[0m\u001b[0mSceneFileFormat\u001b[0m\u001b[1;33m.\u001b[0m\u001b[0mGLB\u001b[0m\u001b[1;33m)\u001b[0m\u001b[1;33m\u001b[0m\u001b[0m\n\u001b[0m",
      "\u001b[1;32mC:\\Users\\anderegg\\Documents\\dev\\sim4life\\SuperMash\\SuperMash\\XCoreModelingServer\\services\\gen-py\\modeler\\Modeler.pyc\u001b[0m in \u001b[0;36mGetEntitiesEncodedScene\u001b[1;34m(self, list_of_uuids, format)\u001b[0m\n\u001b[0;32m    549\u001b[0m         \"\"\"\n\u001b[0;32m    550\u001b[0m         \u001b[0mself\u001b[0m\u001b[1;33m.\u001b[0m\u001b[0msend_GetEntitiesEncodedScene\u001b[0m\u001b[1;33m(\u001b[0m\u001b[0mlist_of_uuids\u001b[0m\u001b[1;33m,\u001b[0m \u001b[0mformat\u001b[0m\u001b[1;33m)\u001b[0m\u001b[1;33m\u001b[0m\u001b[0m\n\u001b[1;32m--> 551\u001b[1;33m         \u001b[1;32mreturn\u001b[0m \u001b[0mself\u001b[0m\u001b[1;33m.\u001b[0m\u001b[0mrecv_GetEntitiesEncodedScene\u001b[0m\u001b[1;33m(\u001b[0m\u001b[1;33m)\u001b[0m\u001b[1;33m\u001b[0m\u001b[0m\n\u001b[0m\u001b[0;32m    552\u001b[0m \u001b[1;33m\u001b[0m\u001b[0m\n\u001b[0;32m    553\u001b[0m     \u001b[1;32mdef\u001b[0m \u001b[0msend_GetEntitiesEncodedScene\u001b[0m\u001b[1;33m(\u001b[0m\u001b[0mself\u001b[0m\u001b[1;33m,\u001b[0m \u001b[0mlist_of_uuids\u001b[0m\u001b[1;33m,\u001b[0m \u001b[0mformat\u001b[0m\u001b[1;33m)\u001b[0m\u001b[1;33m:\u001b[0m\u001b[1;33m\u001b[0m\u001b[0m\n",
      "\u001b[1;32mC:\\Users\\anderegg\\Documents\\dev\\sim4life\\SuperMash\\SuperMash\\XCoreModelingServer\\services\\gen-py\\modeler\\Modeler.pyc\u001b[0m in \u001b[0;36mrecv_GetEntitiesEncodedScene\u001b[1;34m(self)\u001b[0m\n\u001b[0;32m    567\u001b[0m             \u001b[0mx\u001b[0m\u001b[1;33m.\u001b[0m\u001b[0mread\u001b[0m\u001b[1;33m(\u001b[0m\u001b[0miprot\u001b[0m\u001b[1;33m)\u001b[0m\u001b[1;33m\u001b[0m\u001b[0m\n\u001b[0;32m    568\u001b[0m             \u001b[0miprot\u001b[0m\u001b[1;33m.\u001b[0m\u001b[0mreadMessageEnd\u001b[0m\u001b[1;33m(\u001b[0m\u001b[1;33m)\u001b[0m\u001b[1;33m\u001b[0m\u001b[0m\n\u001b[1;32m--> 569\u001b[1;33m             \u001b[1;32mraise\u001b[0m \u001b[0mx\u001b[0m\u001b[1;33m\u001b[0m\u001b[0m\n\u001b[0m\u001b[0;32m    570\u001b[0m         \u001b[0mresult\u001b[0m \u001b[1;33m=\u001b[0m \u001b[0mGetEntitiesEncodedScene_result\u001b[0m\u001b[1;33m(\u001b[0m\u001b[1;33m)\u001b[0m\u001b[1;33m\u001b[0m\u001b[0m\n\u001b[0;32m    571\u001b[0m         \u001b[0mresult\u001b[0m\u001b[1;33m.\u001b[0m\u001b[0mread\u001b[0m\u001b[1;33m(\u001b[0m\u001b[0miprot\u001b[0m\u001b[1;33m)\u001b[0m\u001b[1;33m\u001b[0m\u001b[0m\n",
      "\u001b[1;31mTApplicationException\u001b[0m: TException - service has thrown: ModelerException(message=Could not find an exporter compatible with the given list of entities)"
     ]
    }
   ],
   "source": [
    "interface.modelerClient.GetEntitiesEncodedScene(list_of_uuids=[u'd3229400-3d6e-4c9e-b8fb-f0d3994f11ec'], format=modeler.ttypes.SceneFileFormat.GLB)"
   ]
  },
  {
   "cell_type": "code",
   "execution_count": 18,
   "metadata": {},
   "outputs": [],
   "source": [
    "interface.applicationClient.Quit()"
   ]
  }
 ],
 "metadata": {
  "kernelspec": {
   "display_name": "Python 3",
   "language": "python",
   "name": "python3"
  },
  "language_info": {
   "codemirror_mode": {
    "name": "ipython",
    "version": 3
   },
   "file_extension": ".py",
   "mimetype": "text/x-python",
   "name": "python",
   "nbconvert_exporter": "python",
   "pygments_lexer": "ipython3",
   "version": "3.7.1"
  }
 },
 "nbformat": 4,
 "nbformat_minor": 2
}
