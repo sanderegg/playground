{
 "cells": [
  {
   "attachments": {},
   "cell_type": "markdown",
   "metadata": {},
   "source": [
    "# variables"
   ]
  },
  {
   "cell_type": "code",
   "execution_count": 35,
   "metadata": {},
   "outputs": [],
   "source": [
    "API_URL = \"http://127.0.0.1:8006\" #  \"https://api.staging.osparc.io\" #\"staging.osparc.io\"\n",
    "WEB_API_URL = \"http://127.0.0.1:9081\" # \"https://staging.osparc.io\"\n",
    "USERNAME = \"anderegg@itis.swiss\"\n",
    "PASSWORD = \"z431\"\n",
    "API_KEY = \"352bd1ff-2513-51b6-8886-3b0effdde766\" # \"94bfcaef-bba4-51ab-849b-91596b9683a0\"\n",
    "API_SECRET = \"2a9db08f-04cb-5343-a211-cd48fe66a316\" #\"33809e75-8b24-56b7-81cc-e0bdcfffe072\"\n",
    "SOLVER_NAME = \"simcore/services/comp/kember-cardiac-model\"\n",
    "SOLVER_VERSION = \"1.0.0\"\n",
    "# SOLVER_NAME = \"simcore/services/comp/itis/sleeper\"\n",
    "# SOLVER_VERSION = \"2.0.2\"\n",
    "\n",
    "CLUSTER_ID = 0\n"
   ]
  },
  {
   "attachments": {},
   "cell_type": "markdown",
   "metadata": {},
   "source": [
    "# initialize connection"
   ]
  },
  {
   "cell_type": "code",
   "execution_count": 36,
   "metadata": {},
   "outputs": [],
   "source": [
    "import osparc\n",
    "from tenacity import AsyncRetrying, TryAgain, retry_if_not_exception_type\n",
    "from tenacity.wait import wait_fixed\n",
    "import asyncio\n",
    "import typing\n",
    "import json\n",
    "import urllib3\n",
    "from tqdm.notebook import tqdm_notebook\n",
    "\n",
    "\n",
    "cfg = osparc.Configuration(\n",
    "    host=f\"{API_URL}\",\n",
    "    username=API_KEY,\n",
    "    password=API_SECRET,\n",
    ")\n",
    "# cfg.debug = True"
   ]
  },
  {
   "cell_type": "code",
   "execution_count": 37,
   "metadata": {},
   "outputs": [],
   "source": [
    "with osparc.ApiClient(cfg) as api_client:\n",
    "\n",
    "    profile = osparc.UsersApi(api_client).get_my_profile()\n",
    "    # print(profile)\n",
    "    \n",
    "\n",
    "    solvers_api = osparc.SolversApi(api_client)\n",
    "    original_api_client_call_api = solvers_api.api_client.call_api\n",
    "\n",
    "    def patched_api_client_for_starting_jobs(*args, **kwargs):\n",
    "        # print(\"called with: \", args, kwargs)\n",
    "        if args[0] == \"/v0/solvers/{solver_key}/releases/{version}/jobs/{job_id}:start\" and args[1] == \"POST\":\n",
    "            query_params = args[3]\n",
    "            # print(\"called to start a job, let's add \", CLUSTER_ID, \"to\", query_params)\n",
    "            query_params.append((\"cluster_id\", CLUSTER_ID))\n",
    "            # print(\"changed to: \", args, kwargs)\n",
    "        return original_api_client_call_api(*args, **kwargs)\n",
    "\n",
    "    solvers_api.api_client.call_api = patched_api_client_for_starting_jobs"
   ]
  },
  {
   "attachments": {},
   "cell_type": "markdown",
   "metadata": {},
   "source": [
    "# get solver"
   ]
  },
  {
   "cell_type": "code",
   "execution_count": 38,
   "metadata": {},
   "outputs": [
    {
     "name": "stdout",
     "output_type": "stream",
     "text": [
      "{'description': 'Kember cardiac model',\n",
      " 'id': 'simcore/services/comp/kember-cardiac-model',\n",
      " 'maintainer': 'anderegg@itis.swiss',\n",
      " 'title': 'Kember cardiac model',\n",
      " 'url': 'http://127.0.0.1:8006/v0/solvers/simcore/services/comp/kember-cardiac-model/releases/1.0.0',\n",
      " 'version': '1.0.0'}\n"
     ]
    }
   ],
   "source": [
    "solver = typing.cast(osparc.Solver, solvers_api.get_solver_release(SOLVER_NAME, SOLVER_VERSION))\n",
    "\n",
    "print(solver)"
   ]
  },
  {
   "attachments": {},
   "cell_type": "markdown",
   "metadata": {},
   "source": [
    "# create job"
   ]
  },
  {
   "cell_type": "code",
   "execution_count": 40,
   "metadata": {},
   "outputs": [],
   "source": [
    "import functools\n",
    "from multiprocessing.pool import AsyncResult\n",
    "\n",
    "\n",
    "async def create_job(solver: osparc.Solver) -> osparc.Job:\n",
    "    result = await asyncio.get_running_loop().run_in_executor(None, functools.partial(solvers_api.create_job,\n",
    "            solver.id,\n",
    "            solver.version,\n",
    "            osparc.JobInputs(\n",
    "                {\n",
    "                    \"dt\": 1,\n",
    "                }\n",
    "            ), async_req=True\n",
    "        ))\n",
    "    assert isinstance(result, AsyncResult) # nosec\n",
    "    # print(job)\n",
    "    return typing.cast(osparc.Job, await asyncio.get_running_loop().run_in_executor(None, result.get))"
   ]
  },
  {
   "attachments": {},
   "cell_type": "markdown",
   "metadata": {},
   "source": [
    "# list jobs"
   ]
  },
  {
   "cell_type": "code",
   "execution_count": 41,
   "metadata": {},
   "outputs": [],
   "source": [
    "async def list_jobs(solver: osparc.Solver) -> list[osparc.Job]:\n",
    "    result = await asyncio.get_running_loop().run_in_executor(None, functools.partial(solvers_api.list_jobs, solver.id, solver.version, async_req=True))\n",
    "    assert isinstance(result, AsyncResult) # nosec\n",
    "    # print([job.id for job in jobs])\n",
    "    return typing.cast(list[osparc.Job], await asyncio.get_running_loop().run_in_executor(None, result.get))\n",
    "jobs =await list_jobs(solver)\n",
    "assert len(jobs) == 0, f\"found {len(jobs)} jobs\""
   ]
  },
  {
   "attachments": {},
   "cell_type": "markdown",
   "metadata": {},
   "source": [
    "# inspect job"
   ]
  },
  {
   "cell_type": "code",
   "execution_count": 42,
   "metadata": {},
   "outputs": [],
   "source": [
    "async def inspect_job(solver: osparc.Solver, job: osparc.Job)-> osparc.JobStatus:\n",
    "    result = await asyncio.get_running_loop().run_in_executor(None, functools.partial(solvers_api.inspect_job, solver.id, solver.version, job.id,async_req=True))\n",
    "    assert isinstance(result, AsyncResult) # nosec\n",
    "    # print(status)\n",
    "    return typing.cast(osparc.JobStatus, await asyncio.get_running_loop().run_in_executor(None, result.get))"
   ]
  },
  {
   "attachments": {},
   "cell_type": "markdown",
   "metadata": {},
   "source": [
    "## get job result"
   ]
  },
  {
   "cell_type": "code",
   "execution_count": 43,
   "metadata": {},
   "outputs": [],
   "source": [
    "async def get_job_result(solver: osparc.Solver, job: osparc.Job) -> osparc.JobOutputs:\n",
    "    result = await asyncio.get_running_loop().run_in_executor(None, functools.partial(solvers_api.get_job_outputs, solver.id, solver.version, job.id, async_req=True))\n",
    "    assert isinstance(result, AsyncResult) # nosecregistry.staging.osparc.io/simcore/services/comp/itis/sleeper:2.0.2\n",
    "    return typing.cast(osparc.JobOutputs, await asyncio.get_running_loop().run_in_executor(None, result.get))"
   ]
  },
  {
   "attachments": {},
   "cell_type": "markdown",
   "metadata": {},
   "source": [
    "# start job"
   ]
  },
  {
   "cell_type": "code",
   "execution_count": 44,
   "metadata": {},
   "outputs": [],
   "source": [
    "async def start_job(solver: osparc.Solver, job: osparc.Job) -> osparc.JobStatus:\n",
    "    result=  await asyncio.get_running_loop().run_in_executor(None, functools.partial(solvers_api.start_job, solver.id, solver.version, job.id,async_req=True))\n",
    "    assert isinstance(result, AsyncResult) # nosec\n",
    "    return typing.cast(osparc.JobStatus, await asyncio.get_running_loop().run_in_executor(None, result.get))"
   ]
  },
  {
   "attachments": {},
   "cell_type": "markdown",
   "metadata": {},
   "source": [
    "# delete a job corresponding project"
   ]
  },
  {
   "cell_type": "code",
   "execution_count": 45,
   "metadata": {},
   "outputs": [],
   "source": [
    "def _login_webserver() -> dict[str, str]:\n",
    "   # create a PoolManager instance\n",
    "    http = urllib3.PoolManager()\n",
    "\n",
    "    # define the URL of the login page\n",
    "    url = f'{WEB_API_URL}/v0/auth/login'\n",
    "\n",
    "    # define the data to be sent with the POST request\n",
    "    data = {'email': USERNAME, 'password': PASSWORD}\n",
    "\n",
    "    # send the POST request to the login page\n",
    "    response = http.request('POST', url, body=json.dumps(data), headers={'Content-Type': 'application/json'})\n",
    "\n",
    "    # print the response status code and content\n",
    "    if response.status != 200:\n",
    "        raise RuntimeError(\"failed to login!\")\n",
    "    \n",
    "    # get the cookies\n",
    "    cookies = response.headers.get(\"Set-Cookie\")\n",
    "    return cookies"
   ]
  },
  {
   "cell_type": "code",
   "execution_count": 46,
   "metadata": {},
   "outputs": [],
   "source": [
    "def delete_jobs(jobs: list[osparc.Job]) -> None:\n",
    "    # create a PoolManager instance\n",
    "    http = urllib3.PoolManager()\n",
    "\n",
    "    # define the URL of the login page\n",
    "    url = f'{WEB_API_URL}/v0/auth/login'\n",
    "\n",
    "    # define the data to be sent with the POST request\n",
    "    data = {'email': USERNAME, 'password': PASSWORD}\n",
    "\n",
    "    # send the POST request to the login page\n",
    "    response = http.request('POST', url, body=json.dumps( data), headers={'Content-Type': 'application/json'})\n",
    "\n",
    "    # print the response status code and content\n",
    "    if response.status != 200:\n",
    "        raise RuntimeError(\"failed to login!\")\n",
    "    # print(\"logged in, proceeding with deletion...\")\n",
    "\n",
    "    # get the cookies\n",
    "    cookies = response.headers.get(\"Set-Cookie\")\n",
    "\n",
    "    # delete a project\n",
    "    for job in tqdm_notebook(jobs, desc=\"Deleting jobs\"):\n",
    "        url = f'{WEB_API_URL}/v0/projects/{job.id}'\n",
    "        response = http.request(\"DELETE\", url, headers={'Content-Type': 'application/json', \"Cookie\": cookies})\n",
    "        # print(f\"job {job.id} is {'deleted' if response.status == 204 else 'failed to delete'}\")\n"
   ]
  },
  {
   "attachments": {},
   "cell_type": "markdown",
   "metadata": {},
   "source": [
    "### list jobs through webserver"
   ]
  },
  {
   "cell_type": "code",
   "execution_count": 47,
   "metadata": {},
   "outputs": [
    {
     "name": "stdout",
     "output_type": "stream",
     "text": [
      "1\n"
     ]
    }
   ],
   "source": [
    "def list_job_ids_from_web_server() -> list[str]:\n",
    "    cookies = _login_webserver()\n",
    "    # create a PoolManager instance\n",
    "    http = urllib3.PoolManager()\n",
    "\n",
    "    # list projects that are hidden\n",
    "    url = f'{WEB_API_URL}/v0/projects?type=user&show_hidden=true'\n",
    "    offset = 0\n",
    "    limit = 30\n",
    "    response = http.request(\"GET\", f\"{url}&limit={limit}&offset={offset}\", headers={'Content-Type': 'application/json', \"Cookie\": cookies})\n",
    "    if response.status != 200:\n",
    "        raise RuntimeError(f\"Unable to list projects from webserver: {response.data}\")\n",
    "    data = json.loads(response.data)\n",
    "\n",
    "    total = data[\"_meta\"][\"total\"]\n",
    "    total_count = data[\"_meta\"][\"count\"]\n",
    "    offset += data[\"_meta\"][\"count\"]\n",
    "    list_of_job_ids = [project[\"uuid\"] for project in data[\"data\"] if str(project[\"name\"]).startswith(\"solvers/simcore\")]\n",
    "\n",
    "    while total_count < total:\n",
    "        response = http.request(\"GET\", f\"{url}&limit={limit}&offset={offset}\", headers={'Content-Type': 'application/json', \"Cookie\": cookies})\n",
    "        if response.status != 200:\n",
    "            raise RuntimeError(f\"Unable to list projects from webserver: {response.data}\")\n",
    "        data = json.loads(response.data)\n",
    "        list_of_job_ids += [project[\"uuid\"] for project in data[\"data\"] if str(project[\"name\"]).startswith(\"solvers/simcore\")]\n",
    "        total_count += data[\"_meta\"][\"count\"]\n",
    "        offset+=data[\"_meta\"][\"count\"]\n",
    "    \n",
    "    return list_of_job_ids\n",
    "    # print(list_of_job_ids)\n",
    "\n",
    "list_of_job_ids = list_job_ids_from_web_server()\n",
    "print(len(list_of_job_ids))"
   ]
  },
  {
   "cell_type": "code",
   "execution_count": 48,
   "metadata": {},
   "outputs": [],
   "source": [
    "jobs = [osparc.Job(id=job_id, name=\"fake\", inputs_checksum=\"\", created_at=\"\", runner_name=\"blah\", url=\"asd\", runner_url=\"asd\", outputs_url=\"asd\") for job_id in list_of_job_ids]"
   ]
  },
  {
   "attachments": {},
   "cell_type": "markdown",
   "metadata": {},
   "source": [
    "# run N sleepers"
   ]
  },
  {
   "cell_type": "code",
   "execution_count": 76,
   "metadata": {},
   "outputs": [
    {
     "data": {
      "application/vnd.jupyter.widget-view+json": {
       "model_id": "f6effa22cc054266b5e4dfce1fd61129",
       "version_major": 2,
       "version_minor": 0
      },
      "text/plain": [
       "Creating jobs:   0%|          | 0/1 [00:00<?, ?it/s]"
      ]
     },
     "metadata": {},
     "output_type": "display_data"
    }
   ],
   "source": [
    "NUM_JOBS = 1\n",
    "from tqdm.notebook import tqdm\n",
    "\n",
    "jobs = []\n",
    "with tqdm(total=NUM_JOBS, desc=\"Creating jobs\") as pbar:\n",
    "    for result in asyncio.as_completed([create_job(solver) for _ in range(NUM_JOBS)]):\n",
    "        job = await result\n",
    "        jobs.append(job)\n",
    "        pbar.update()\n"
   ]
  },
  {
   "cell_type": "code",
   "execution_count": 77,
   "metadata": {},
   "outputs": [
    {
     "data": {
      "application/vnd.jupyter.widget-view+json": {
       "model_id": "74baf92f90a841208187b3a2d288045a",
       "version_major": 2,
       "version_minor": 0
      },
      "text/plain": [
       "Running jobs:   0%|          | 0/1 [00:00<?, ?it/s]"
      ]
     },
     "metadata": {},
     "output_type": "display_data"
    },
    {
     "name": "stdout",
     "output_type": "stream",
     "text": [
      "job 78592c3d-a1c9-4293-840f-374a05f354b1 currently {'job_id': '78592c3d-a1c9-4293-840f-374a05f354b1',\n",
      " 'progress': 0,\n",
      " 'started_at': datetime.datetime(2023, 5, 16, 16, 50, 14, 487057),\n",
      " 'state': 'STARTED',\n",
      " 'stopped_at': None,\n",
      " 'submitted_at': datetime.datetime(2023, 5, 16, 16, 50, 14, 487000)}\n",
      "job progress is now 25\n",
      "job progress is now 50\n",
      "job progress is now 75\n",
      "job progress is now 90\n",
      "job 78592c3d-a1c9-4293-840f-374a05f354b1 currently {'job_id': '78592c3d-a1c9-4293-840f-374a05f354b1',\n",
      " 'progress': 100,\n",
      " 'started_at': None,\n",
      " 'state': 'SUCCESS',\n",
      " 'stopped_at': datetime.datetime(2023, 5, 16, 16, 50, 54, 806866),\n",
      " 'submitted_at': datetime.datetime(2023, 5, 16, 16, 50, 54, 806815)}\n"
     ]
    }
   ],
   "source": [
    "\n",
    "\n",
    "async def run_job(solver: osparc.Solver, job: osparc.Job):\n",
    "    # with tqdm(total=3) as pbar:\n",
    "    await start_job(solver, job)\n",
    "    # pbar.update()\n",
    "\n",
    "    job_status = await inspect_job(solver, job)\n",
    "    async for attempt in AsyncRetrying(wait=wait_fixed(1), retry=retry_if_not_exception_type()):\n",
    "        with attempt:\n",
    "            new_job_status = await inspect_job(solver, job)\n",
    "            if job_status.state != new_job_status.state:\n",
    "                job_status = new_job_status\n",
    "                # pbar.update()\n",
    "                print(f\"job {job.id} currently {job_status}\")\n",
    "            if job_status.progress != new_job_status.progress:\n",
    "                job_status = new_job_status\n",
    "                print(f\"job progress is now {job_status.progress}\")\n",
    "            if job_status.state not in [\"SUCCESS\", \"FAILED\"]:\n",
    "                raise TryAgain\n",
    "            if job_status.state == \"FAILED\":\n",
    "                raise RuntimeError(\"job failed!\")\n",
    "            return job_status\n",
    "\n",
    "job_statuses = []\n",
    "with tqdm(total=len(jobs), desc=\"Running jobs\") as pbar:\n",
    "    for result in asyncio.as_completed([run_job(solver, job) for job in jobs]):\n",
    "        try:\n",
    "            job_statuses.append(await result)            \n",
    "        except osparc.ApiException as exc:\n",
    "            tqdm.write(f\"Error while running {job.id}: {exc}\")\n",
    "        finally:\n",
    "            pbar.update()"
   ]
  },
  {
   "cell_type": "code",
   "execution_count": 51,
   "metadata": {},
   "outputs": [],
   "source": [
    "assert all(job.state == \"SUCCESS\" for job in job_statuses)\n"
   ]
  },
  {
   "cell_type": "code",
   "execution_count": 52,
   "metadata": {},
   "outputs": [
    {
     "data": {
      "text/plain": [
       "{'job_id': '93c95f6c-8f35-4e11-bf5c-6e5d0e7d17a8',\n",
       " 'results': {'out_1': {'checksum': 'd48be2403f4719ed3293c6569e45861c',\n",
       "                       'content_type': 'application/octet-stream',\n",
       "                       'filename': 'outputController.dat',\n",
       "                       'id': 'f1ffd1a9-2a76-38a8-be2f-9e734d04643c'}}}"
      ]
     },
     "execution_count": 52,
     "metadata": {},
     "output_type": "execute_result"
    }
   ],
   "source": [
    "await get_job_result(solver, jobs[0])"
   ]
  },
  {
   "cell_type": "code",
   "execution_count": 75,
   "metadata": {},
   "outputs": [
    {
     "data": {
      "application/vnd.jupyter.widget-view+json": {
       "model_id": "ea3f3ada950f497e9097372a7fcdcc66",
       "version_major": 2,
       "version_minor": 0
      },
      "text/plain": [
       "Deleting jobs:   0%|          | 0/1 [00:00<?, ?it/s]"
      ]
     },
     "metadata": {},
     "output_type": "display_data"
    }
   ],
   "source": [
    "# jobs =await list_jobs(solver)\n",
    "delete_jobs(jobs)\n",
    "await asyncio.sleep(5)\n",
    "jobs =await list_jobs(solver)\n",
    "assert len(jobs) == 0, f\"found {len(jobs)} jobs\""
   ]
  },
  {
   "cell_type": "code",
   "execution_count": null,
   "metadata": {},
   "outputs": [],
   "source": []
  }
 ],
 "metadata": {
  "kernelspec": {
   "display_name": ".venv",
   "language": "python",
   "name": "python3"
  },
  "language_info": {
   "codemirror_mode": {
    "name": "ipython",
    "version": 3
   },
   "file_extension": ".py",
   "mimetype": "text/x-python",
   "name": "python",
   "nbconvert_exporter": "python",
   "pygments_lexer": "ipython3",
   "version": "3.11.0"
  },
  "orig_nbformat": 4
 },
 "nbformat": 4,
 "nbformat_minor": 2
}
